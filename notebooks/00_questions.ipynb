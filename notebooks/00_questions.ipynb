{
 "cells": [
  {
   "cell_type": "markdown",
   "metadata": {},
   "source": [
    "# [ ] Q0: What is the algorithm behind einsum?"
   ]
  },
  {
   "cell_type": "markdown",
   "metadata": {},
   "source": [
    "#### The Rules\n",
    "1. Repeating letters between input arrays means that values along those axes will be multiplied together. The products make up the values for the output array.\n",
    "1. Omitting a letter from the output means that values along that axis will be summed.\n",
    "\n",
    "#### Summation indicies\n",
    " - **not** in output specification\n",
    " - outer for loops\n",
    "#### Free indicies\n",
    " - iterate over every output element"
   ]
  },
  {
   "cell_type": "markdown",
   "metadata": {},
   "source": [
    "# [ ] Q1: `np.einsum('i,i', x, y)` vs `np.einsum('i,j->', x, y)`"
   ]
  },
  {
   "cell_type": "markdown",
   "metadata": {},
   "source": [
    "# [ ] Q2: Is the output will be the same? `i,j->i` vs `i,j->j`"
   ]
  },
  {
   "cell_type": "markdown",
   "metadata": {},
   "source": [
    "# [ ] Q3: 'ia,bj->ij' vs 'ik,kj->ij'"
   ]
  },
  {
   "cell_type": "markdown",
   "metadata": {},
   "source": [
    "# [ ] Q4: tensor product vs tensor dot product vs tensor double contraction"
   ]
  },
  {
   "cell_type": "markdown",
   "metadata": {},
   "source": [
    "Three common use cases are:\n",
    "axes = 0 : tensor product\n",
    "\n",
    "axes = 1 : tensor dot product\n",
    "\n",
    "axes = 2 : (default) tensor double contraction\n",
    "\n"
   ]
  },
  {
   "cell_type": "markdown",
   "metadata": {},
   "source": [
    "# [ ] Q5: How to determine time complexity from einsum formula?"
   ]
  },
  {
   "cell_type": "markdown",
   "metadata": {},
   "source": [
    "## Q5.1: Can time complexity be optimized?"
   ]
  },
  {
   "cell_type": "markdown",
   "metadata": {},
   "source": []
  },
  {
   "cell_type": "markdown",
   "metadata": {},
   "source": [
    "# Q6: what is ngrg...->ngr...? (and his little sister noq,npq->nop)"
   ]
  },
  {
   "cell_type": "markdown",
   "metadata": {},
   "source": [
    "https://github.com/pytorch/pytorch/blob/eafeba71c1ed35f8cf2d39016bf66c0b088e4a9f/aten/src/ATen/functorch/BatchRulesConvolution.cpp#L173"
   ]
  },
  {
   "cell_type": "markdown",
   "metadata": {},
   "source": [
    "# [ ] Q7: what is the story of `einop_rule` in distributed sharding?"
   ]
  },
  {
   "cell_type": "markdown",
   "metadata": {},
   "source": [
    "# [ ] [BOSS] Q8: what is tensor contraction?"
   ]
  },
  {
   "cell_type": "markdown",
   "metadata": {},
   "source": [
    " - what is the order of contraction\n",
    " - why it matters?\n",
    " - Is it the same as \"SQL planning problem\" mentioned?"
   ]
  },
  {
   "cell_type": "code",
   "execution_count": null,
   "metadata": {
    "vscode": {
     "languageId": "plaintext"
    }
   },
   "outputs": [],
   "source": []
  },
  {
   "cell_type": "markdown",
   "metadata": {},
   "source": [
    "# Q9: Show why it is not possible to have repeated indicies in the output, but possible in the input?"
   ]
  },
  {
   "cell_type": "markdown",
   "metadata": {},
   "source": [
    "# Q10: How can you describe a space of possible input strings to the einsum?"
   ]
  },
  {
   "cell_type": "markdown",
   "metadata": {},
   "source": [
    "## Q10.1: how do we count number of possible output strings as a function of unique indicies?"
   ]
  },
  {
   "cell_type": "markdown",
   "metadata": {},
   "source": [
    "**Output**:\n",
    "\n",
    " - Permutations of Powerset of unique indices\n",
    "   - each unique index can either be in the output seq, or not\n",
    "   - permutations of this set\n",
    "   - tricky combinatorial question: how do we count number of options as a function of unique indicies?"
   ]
  },
  {
   "cell_type": "markdown",
   "metadata": {},
   "source": [
    "# Q11: does einsum have enough power to repersent cross-product? Why?"
   ]
  },
  {
   "cell_type": "markdown",
   "metadata": {},
   "source": []
  },
  {
   "cell_type": "code",
   "execution_count": null,
   "metadata": {
    "vscode": {
     "languageId": "plaintext"
    }
   },
   "outputs": [],
   "source": []
  },
  {
   "cell_type": "markdown",
   "metadata": {},
   "source": [
    "# E list"
   ]
  },
  {
   "cell_type": "markdown",
   "metadata": {},
   "source": [
    " - `ah,th->t`\n",
    " - `...ij,...bj->...bi`\n",
    " - `ni...->ni`\n",
    " - `n...i,n...j->nij`\n",
    " - `n...k->nk`\n",
    " - `noq,npq->nop`\n",
    " - `blq,bhlk->bhlqk`"
   ]
  },
  {
   "cell_type": "markdown",
   "metadata": {},
   "source": []
  }
 ],
 "metadata": {
  "language_info": {
   "name": "python"
  },
  "orig_nbformat": 4
 },
 "nbformat": 4,
 "nbformat_minor": 2
}
