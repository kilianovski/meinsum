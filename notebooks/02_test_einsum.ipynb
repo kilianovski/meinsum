{
 "cells": [
  {
   "cell_type": "code",
   "execution_count": 13,
   "metadata": {},
   "outputs": [],
   "source": [
    "import torch\n",
    "te = torch.tensor"
   ]
  },
  {
   "cell_type": "code",
   "execution_count": 14,
   "metadata": {},
   "outputs": [],
   "source": [
    "from my_einsum import my_einsum"
   ]
  },
  {
   "cell_type": "code",
   "execution_count": 15,
   "metadata": {},
   "outputs": [],
   "source": [
    "einsum_imp = torch.einsum\n",
    "einsum_imp = my_einsum"
   ]
  },
  {
   "cell_type": "code",
   "execution_count": 16,
   "metadata": {},
   "outputs": [],
   "source": [
    "def print_congrats(case_name):\n",
    "    print(f'✅ {case_name} PASSED 🎊🥳💃🎉 !')"
   ]
  },
  {
   "cell_type": "code",
   "execution_count": 17,
   "metadata": {},
   "outputs": [
    {
     "name": "stdout",
     "output_type": "stream",
     "text": [
      "✅ (1d matrix) PASSED 🎊🥳💃🎉 !\n"
     ]
    }
   ],
   "source": [
    "CASE_NAME = \"(1d matrix)\"\n",
    "x = torch.arange(6)\n",
    "\n",
    "# ---------------------------------------------------\n",
    "actual = einsum_imp('i->i', x)\n",
    "expected = torch.tensor([0,1,2,3,4,5])\n",
    "assert torch.allclose ( actual, expected )\n",
    "\n",
    "# ---------------------------------------------------\n",
    "actual = einsum_imp('i->', x)\n",
    "expected = torch.tensor([15])\n",
    "assert torch.allclose ( actual, expected )\n",
    "\n",
    "print_congrats(CASE_NAME)"
   ]
  },
  {
   "cell_type": "code",
   "execution_count": 18,
   "metadata": {},
   "outputs": [
    {
     "name": "stdout",
     "output_type": "stream",
     "text": [
      "x=tensor([0, 1, 2, 3, 4, 5]) y=tensor([0, 1, 2])\n",
      "✅ (1d matrix),(1d matrix) of different shapes PASSED 🎊🥳💃🎉 !\n"
     ]
    }
   ],
   "source": [
    "CASE_NAME = \"(1d matrix),(1d matrix) of different shapes\"\n",
    "\n",
    "x = torch.arange(6)\n",
    "y = torch.arange(3)\n",
    "\n",
    "print(f'{x=} {y=}')\n",
    "\n",
    "\n",
    "# ---------------------------------------------------\n",
    "# AKA OUTER PRODUCT\n",
    "\n",
    "actual = einsum_imp('i,j->ij', x, y)\n",
    "\n",
    "expected = torch.stack([\n",
    "    0*y,\n",
    "    1*y,\n",
    "    2*y,\n",
    "    3*y,\n",
    "    4*y,\n",
    "    5*y,\n",
    "])\n",
    "\n",
    "assert torch.allclose ( actual, expected )\n",
    "# ---------------------------------------------------\n",
    "# AKA OUTER PRODUCT\n",
    "actual = einsum_imp('i,j->ji', x, y)\n",
    "\n",
    "expected = torch.stack([\n",
    "    0*x,\n",
    "    1*x,\n",
    "    2*x,\n",
    "])\n",
    "\n",
    "assert torch.allclose ( actual, expected )\n",
    "# ---------------------------------------------------\n",
    "actual = einsum_imp('i,j->i', x, y)\n",
    "expected = torch.tensor([0, 3, 6, 9, 12, 15])\n",
    "assert torch.allclose ( actual, expected )\n",
    "\n",
    "\n",
    "# ---------------------------------------------------\n",
    "actual = einsum_imp('i,j->j', x, y)\n",
    "expected = torch.tensor([0, 15, 30])\n",
    "assert torch.allclose ( actual, expected )\n",
    "\n",
    "# ---------------------------------------------------\n",
    "# AKA INNER PRODUCT\n",
    "actual = einsum_imp('i,j->', x, y)\n",
    "expected = torch.tensor([0 + 15 + 30])\n",
    "assert torch.allclose ( actual, expected )\n",
    "\n",
    "print_congrats(CASE_NAME)"
   ]
  },
  {
   "cell_type": "code",
   "execution_count": 19,
   "metadata": {},
   "outputs": [
    {
     "name": "stdout",
     "output_type": "stream",
     "text": [
      "x=tensor([0, 1, 2, 3, 4, 5]) y=tensor([0, 1, 2, 3, 4, 5])\n",
      "✅ (1d matrix),(1d matrix) of SAME shapes PASSED 🎊🥳💃🎉 !\n"
     ]
    }
   ],
   "source": [
    "CASE_NAME = \"(1d matrix),(1d matrix) of SAME shapes\"\n",
    "\n",
    "x = torch.arange(6)\n",
    "y = torch.arange(6)\n",
    "\n",
    "print(f'{x=} {y=}')\n",
    "\n",
    "# ---------------------------------------------------\n",
    "actual = einsum_imp('i,i->i', x, y)\n",
    "expected = torch.tensor([0, 1, 4, 9, 16, 25])\n",
    "assert torch.allclose ( actual, expected )\n",
    "# ---------------------------------------------------\n",
    "actual = einsum_imp('i,i->', x, y)\n",
    "expected = torch.tensor([0+1+4+9+16+25])\n",
    "assert torch.allclose ( actual, expected )\n",
    "# ---------------------------------------------------\n",
    "\n",
    "\n",
    "print_congrats(CASE_NAME)"
   ]
  },
  {
   "cell_type": "code",
   "execution_count": 20,
   "metadata": {},
   "outputs": [
    {
     "name": "stdout",
     "output_type": "stream",
     "text": [
      "✅ (2d matrix) PASSED 🎊🥳💃🎉 !\n"
     ]
    }
   ],
   "source": [
    "CASE_NAME =  \"(2d matrix)\"\n",
    "x = torch.arange(6).reshape( (2,3) )\n",
    "\n",
    "# ---------------------------------------------------\n",
    "actual = einsum_imp('ij->ji', x)\n",
    "expected = x.T\n",
    "assert torch.allclose ( actual, expected )\n",
    "\n",
    "# ---------------------------------------------------\n",
    "actual = einsum_imp('ij->i', x)\n",
    "expected = torch.tensor([3, 12])\n",
    "assert torch.allclose ( actual, expected )\n",
    "\n",
    "# ---------------------------------------------------\n",
    "actual = einsum_imp('ij->j', x)\n",
    "expected = torch.tensor([3, 5, 7])\n",
    "assert torch.allclose ( actual, expected )\n",
    "\n",
    "# ---------------------------------------------------\n",
    "actual = einsum_imp('ij->', x)\n",
    "expected = torch.tensor([15])\n",
    "assert torch.allclose ( actual, expected )\n",
    "# ---------------------------------------------------\n",
    "x = torch.arange(9).reshape( (3,3) )\n",
    "actual = einsum_imp('ii->i', x)\n",
    "expected = torch.tensor([0,4,8])\n",
    "assert torch.allclose ( actual, expected )\n",
    "# ---------------------------------------------------\n",
    "\n",
    "actual = einsum_imp('ii->', x)\n",
    "expected = torch.tensor([0+4+8])\n",
    "assert torch.allclose ( actual, expected )\n",
    "# ---------------------------------------------------\n",
    "\n",
    "print_congrats(CASE_NAME)"
   ]
  },
  {
   "cell_type": "code",
   "execution_count": 21,
   "metadata": {},
   "outputs": [
    {
     "name": "stdout",
     "output_type": "stream",
     "text": [
      "✅ (2d matrix), (1d matrix) PASSED 🎊🥳💃🎉 !\n"
     ]
    }
   ],
   "source": [
    "CASE_NAME =  \"(2d matrix), (1d matrix)\"\n",
    "x = torch.arange(6).reshape( (2,3) )\n",
    "y = torch.arange(3)\n",
    "\n",
    "# ---------------------------------------------------\n",
    "actual = einsum_imp('ij,k->kji', x, y)\n",
    "expected = torch.stack([\n",
    "    0*x.T,\n",
    "    1*x.T,\n",
    "    2*x.T,\n",
    "])\n",
    "assert torch.allclose ( actual, expected )\n",
    "\n",
    "# ---------------------------------------------------\n",
    "actual = einsum_imp('ij,j->ij', x, y)\n",
    "expected = torch.tensor([\n",
    "    [0*0,1*1,2*2],\n",
    "    [3*0,4*1,5*2]\n",
    "])\n",
    "assert torch.allclose ( actual, expected )\n",
    "\n",
    "# ---------------------------------------------------\n",
    "actual = einsum_imp('ij,k->ij', x, y)\n",
    "expected = torch.tensor([\n",
    "    [0*0 + 0*1 + 0*2, 1*0 + 1*1 + 1*2, 2*0 + 2*1 + 2*2],\n",
    "    [3*0 + 3*1 + 3*2, 4*0 + 4*1 + 4*2, 5*0 + 5*1 + 5*2]\n",
    "])\n",
    "assert torch.allclose ( actual, expected )\n",
    "\n",
    "# ---------------------------------------------------\n",
    "x = torch.arange(9).reshape( (3,3) )\n",
    "y = torch.arange(3)\n",
    "\n",
    "actual = einsum_imp('ii,i->i', x, y)\n",
    "expected = torch.tensor( [ 0*0, 1*4, 2*8 ] )\n",
    "assert torch.allclose ( actual, expected )\n",
    "\n",
    "print_congrats(CASE_NAME)"
   ]
  },
  {
   "cell_type": "code",
   "execution_count": 22,
   "metadata": {},
   "outputs": [
    {
     "name": "stdout",
     "output_type": "stream",
     "text": [
      "x=tensor([[0, 1, 2],\n",
      "        [3, 4, 5]])\n",
      "\n",
      "y=tensor([[0, 1],\n",
      "        [2, 3],\n",
      "        [4, 5]])\n",
      "\n",
      "✅ (2d matrix), (2d matrix) PASSED 🎊🥳💃🎉 !\n"
     ]
    }
   ],
   "source": [
    "CASE_NAME =  \"(2d matrix), (2d matrix)\"\n",
    "x = torch.arange(6).reshape( (2,3) )\n",
    "y = torch.arange(6).reshape( (3,2) )\n",
    "\n",
    "print(f'{x=}')\n",
    "print()\n",
    "print(f'{y=}')\n",
    "print()\n",
    "\n",
    "# ---------------------------------------------------\n",
    "# AKA matrix multiplication\n",
    "actual = einsum_imp('ij,jk->ik', x, y)\n",
    "expected = x@y\n",
    "assert torch.allclose ( actual, expected )\n",
    "\n",
    "# ---------------------------------------------------\n",
    "# [ ] TODO: interesting visualization case. At least review, ideally go visually through whole process\n",
    "actual = einsum_imp('ij,jk->i', x, y)\n",
    "\n",
    "def dot(a,b): return (te(a)*te(b)).sum()\n",
    "\n",
    "expected = torch.tensor([\n",
    "    dot([0,1,2], [0,2,4])+dot([0,1,2], [1,3,5]),\n",
    "    dot([3,4,5], [0,2,4])+dot([3,4,5], [1,3,5]),\n",
    "])\n",
    "\n",
    "assert torch.allclose ( actual, expected )\n",
    "\n",
    "print_congrats(CASE_NAME)"
   ]
  },
  {
   "cell_type": "code",
   "execution_count": 23,
   "metadata": {},
   "outputs": [
    {
     "name": "stdout",
     "output_type": "stream",
     "text": [
      "x=tensor([[0, 1, 2],\n",
      "        [3, 4, 5]])\n",
      "\n",
      "y=tensor([[0, 1],\n",
      "        [2, 3],\n",
      "        [4, 5]])\n",
      "\n",
      "z=tensor([[0, 1, 2, 3],\n",
      "        [4, 5, 6, 7]])\n",
      "\n",
      "✅ (2d), (2d), (2d) PASSED 🎊🥳💃🎉 !\n"
     ]
    }
   ],
   "source": [
    "CASE_NAME =  \"(2d), (2d), (2d)\"\n",
    "x = torch.arange(6).reshape( (2,3) )\n",
    "y = torch.arange(6).reshape( (3,2) )\n",
    "z = torch.arange(8).reshape( (2,4) )\n",
    "\n",
    "print(f'{x=}')\n",
    "print()\n",
    "print(f'{y=}')\n",
    "print()\n",
    "print(f'{z=}')\n",
    "print()\n",
    "\n",
    "# ---------------------------------------------------\n",
    "# AKA matrix multiplication\n",
    "actual = einsum_imp('ab,bc,cd->', x, y, z)\n",
    "expected = ((x@y)@z).sum()\n",
    "assert torch.allclose ( actual, expected )\n",
    "\n",
    "\n",
    "print_congrats(CASE_NAME)"
   ]
  },
  {
   "cell_type": "code",
   "execution_count": null,
   "metadata": {},
   "outputs": [],
   "source": []
  }
 ],
 "metadata": {
  "kernelspec": {
   "display_name": "Python 3",
   "language": "python",
   "name": "python3"
  },
  "language_info": {
   "codemirror_mode": {
    "name": "ipython",
    "version": 3
   },
   "file_extension": ".py",
   "mimetype": "text/x-python",
   "name": "python",
   "nbconvert_exporter": "python",
   "pygments_lexer": "ipython3",
   "version": "3.11.6"
  },
  "orig_nbformat": 4
 },
 "nbformat": 4,
 "nbformat_minor": 2
}
